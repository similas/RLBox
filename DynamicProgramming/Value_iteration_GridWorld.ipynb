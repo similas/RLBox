{
 "cells": [
  {
   "cell_type": "code",
   "execution_count": 1,
   "metadata": {},
   "outputs": [],
   "source": [
    "from __future__ import print_function, division\n",
    "from builtins import range\n",
    "import numpy as np"
   ]
  },
  {
   "cell_type": "markdown",
   "metadata": {},
   "source": [
    "# GridWorld"
   ]
  },
  {
   "cell_type": "code",
   "execution_count": 2,
   "metadata": {},
   "outputs": [],
   "source": [
    "ACTION_SPACE = ('U', 'D', 'L', 'R')\n",
    "\n",
    "\n",
    "class Grid:  # Environment\n",
    "\n",
    "    def __init__(self,rows,cols,start,destination):\n",
    "        self.rows = rows\n",
    "        self.cols = cols\n",
    "        self.destination = destination\n",
    "        self.i = start[0]\n",
    "        self.j = start[1]\n",
    "\n",
    "    def set(self, rewards, actions):\n",
    "        self.rewards = rewards\n",
    "        self.actions = actions\n",
    "\n",
    "    def set_state(self, s):\n",
    "        self.i = s[0]\n",
    "        self.j = s[1]\n",
    "        \n",
    "    def current_state(self):\n",
    "        return (self.i,self.j)\n",
    "\n",
    "    def is_terminal(self, s):\n",
    "        return s not in self.actions\n",
    "\n",
    "    def get_next_state(self, s, a):\n",
    "    # this answers: where would I end up if I perform action 'a' in state 's'?\n",
    "        (i, j) = (s[0], s[1])\n",
    "    # if this action moves you somewhere else, then it will be in this dictionary\n",
    "        if a in self.actions[(i, j)]:\n",
    "            if a == 'U':\n",
    "                i -= 1\n",
    "            elif a == 'D':\n",
    "                i += 1\n",
    "            elif a == 'R':\n",
    "                j += 1\n",
    "            elif a == 'L':\n",
    "                j -= 1\n",
    "        return (i, j)\n",
    "\n",
    "\n",
    "    def all_states(self):\n",
    "        return set(self.actions.keys()) | set(self.rewards.keys())"
   ]
  },
  {
   "cell_type": "markdown",
   "metadata": {},
   "source": [
    "# Our GridWorld"
   ]
  },
  {
   "cell_type": "code",
   "execution_count": 3,
   "metadata": {},
   "outputs": [],
   "source": [
    "def standard_grid():\n",
    "\n",
    "  # .  .  .  1\n",
    "  # .  x  . -1\n",
    "  # s  .  .  .\n",
    "    destination = (0,3)\n",
    "    grid = Grid(3, 4, (2, 0), destination)\n",
    "    rewards = {(0, 3): 1, (1, 3): -1}\n",
    "    actions = {\n",
    "        (0, 0): ('D', 'R'),\n",
    "        (0, 1): ('L', 'R'),\n",
    "        (0, 2): ('L', 'D', 'R'),\n",
    "        (1, 0): ('U', 'D'),\n",
    "        (1, 2): ('U', 'D', 'R'),\n",
    "        (2, 0): ('U', 'R'),\n",
    "        (2, 1): ('L', 'R'),\n",
    "        (2, 2): ('L', 'R', 'U'),\n",
    "        (2, 3): ('L', 'U'),\n",
    "        }\n",
    "    grid.set(rewards, actions)\n",
    "    return grid"
   ]
  },
  {
   "cell_type": "markdown",
   "metadata": {},
   "source": [
    "# Display Grid"
   ]
  },
  {
   "cell_type": "code",
   "execution_count": 4,
   "metadata": {},
   "outputs": [],
   "source": [
    "def print_values(V, g):\n",
    "    for i in range(g.rows):\n",
    "        print(\"---------------------------\")\n",
    "        for j in range(g.cols):\n",
    "            v = V.get((i, j), 0)\n",
    "            if v >= 0:\n",
    "                print(\" %.2f|\" % v, end=\"\")\n",
    "            else:\n",
    "                print(\"%.2f|\" % v, end=\"\")  \n",
    "        print(\"\")\n",
    "\n",
    "\n",
    "def print_policy(P, g):\n",
    "    for i in range(g.rows):\n",
    "        print(\"---------------------------\")\n",
    "        for j in range(g.cols):\n",
    "            a = P.get((i, j), \" \")\n",
    "            print(\"  %s  |\" % a, end=\"\")\n",
    "        print(\"\")"
   ]
  },
  {
   "cell_type": "markdown",
   "metadata": {},
   "source": [
    "# Random Policy and Find Optimal Value Functions"
   ]
  },
  {
   "cell_type": "code",
   "execution_count": 12,
   "metadata": {},
   "outputs": [
    {
     "name": "stdout",
     "output_type": "stream",
     "text": [
      "---------------------------\n",
      "  L  |  R  |  L  |  G  |\n",
      "---------------------------\n",
      "  D  |     |  L  |     |\n",
      "---------------------------\n",
      "  L  |  L  |  R  |  U  |\n"
     ]
    }
   ],
   "source": [
    "grid = standard_grid()\n",
    "destination = (0,3)\n",
    "### Random policy ###\n",
    "policy = {}\n",
    "for state in grid.actions.keys():\n",
    "    policy[state] = np.random.choice(ACTION_SPACE)\n",
    "policy[destination] = \"G\"\n",
    "print_policy(policy, grid)"
   ]
  },
  {
   "cell_type": "code",
   "execution_count": 13,
   "metadata": {},
   "outputs": [
    {
     "name": "stdout",
     "output_type": "stream",
     "text": [
      "---------------------------\n",
      " 0.00| 0.00| 0.00| 0.00|\n",
      "---------------------------\n",
      " 0.00| 0.00| 0.00| 0.00|\n",
      "---------------------------\n",
      " 0.00| 0.00| 0.00| 0.00|\n"
     ]
    }
   ],
   "source": [
    "# initialize V(s) = 0\n",
    "V = {}\n",
    "for s in grid.all_states():\n",
    "    V[s] = 0\n",
    "\n",
    "print_values(V, grid)"
   ]
  },
  {
   "cell_type": "code",
   "execution_count": 14,
   "metadata": {},
   "outputs": [
    {
     "data": {
      "text/plain": [
       "True"
      ]
     },
     "execution_count": 14,
     "metadata": {},
     "output_type": "execute_result"
    }
   ],
   "source": [
    "grid.destination == (0,3)"
   ]
  },
  {
   "cell_type": "code",
   "execution_count": 15,
   "metadata": {},
   "outputs": [
    {
     "name": "stdout",
     "output_type": "stream",
     "text": [
      "{((0, 2), 'R', (0, 3)): 1, ((1, 2), 'R', (1, 3)): -1, ((2, 3), 'U', (1, 3)): -1}\n",
      "---------------\n",
      "{((0, 0), 'U', (0, 0)): 1, ((0, 0), 'D', (1, 0)): 1, ((0, 0), 'L', (0, 0)): 1, ((0, 0), 'R', (0, 1)): 1, ((0, 1), 'U', (0, 1)): 1, ((0, 1), 'D', (0, 1)): 1, ((0, 1), 'L', (0, 0)): 1, ((0, 1), 'R', (0, 2)): 1, ((0, 2), 'U', (0, 2)): 1, ((0, 2), 'D', (1, 2)): 1, ((0, 2), 'L', (0, 1)): 1, ((0, 2), 'R', (0, 3)): 1, ((1, 0), 'U', (0, 0)): 1, ((1, 0), 'D', (2, 0)): 1, ((1, 0), 'L', (1, 0)): 1, ((1, 0), 'R', (1, 0)): 1, ((1, 2), 'U', (0, 2)): 1, ((1, 2), 'D', (2, 2)): 1, ((1, 2), 'L', (1, 2)): 1, ((1, 2), 'R', (1, 3)): 1, ((2, 0), 'U', (1, 0)): 1, ((2, 0), 'D', (2, 0)): 1, ((2, 0), 'L', (2, 0)): 1, ((2, 0), 'R', (2, 1)): 1, ((2, 1), 'U', (2, 1)): 1, ((2, 1), 'D', (2, 1)): 1, ((2, 1), 'L', (2, 0)): 1, ((2, 1), 'R', (2, 2)): 1, ((2, 2), 'U', (1, 2)): 1, ((2, 2), 'D', (2, 2)): 1, ((2, 2), 'L', (2, 1)): 1, ((2, 2), 'R', (2, 3)): 1, ((2, 3), 'U', (1, 3)): 1, ((2, 3), 'D', (2, 3)): 1, ((2, 3), 'L', (2, 2)): 1, ((2, 3), 'R', (2, 3)): 1}\n"
     ]
    }
   ],
   "source": [
    "transition_probs = {}\n",
    "rewards = {}\n",
    "\n",
    "for row in range(grid.rows):\n",
    "    for col in range(grid.cols):\n",
    "        state = (row, col)\n",
    "        if not grid.is_terminal(state):\n",
    "            for action in ACTION_SPACE:\n",
    "                next_state = grid.get_next_state(state, action)\n",
    "                transition_probs[(state, action, next_state)] = 1\n",
    "                if next_state in grid.rewards:\n",
    "                    rewards[(state, action, next_state)] = grid.rewards[next_state]\n",
    "\n",
    "\n",
    "print(rewards)\n",
    "print(\"---------------\")\n",
    "print(transition_probs)"
   ]
  },
  {
   "cell_type": "markdown",
   "metadata": {},
   "source": [
    "# Policy Evaluation Ommitted !"
   ]
  },
  {
   "cell_type": "markdown",
   "metadata": {},
   "source": [
    "# Policy Improvement using Value-Iteration"
   ]
  },
  {
   "cell_type": "code",
   "execution_count": 17,
   "metadata": {},
   "outputs": [
    {
     "name": "stdout",
     "output_type": "stream",
     "text": [
      "Starting Value-States\n",
      "---------------------------\n",
      " 0.00| 0.00| 0.00| 0.00|\n",
      "---------------------------\n",
      " 0.00| 0.00| 0.00| 0.00|\n",
      "---------------------------\n",
      " 0.00| 0.00| 0.00| 0.00|\n",
      "==========\n",
      "---------------------------\n",
      " 0.00| 0.00| 1.00| 0.00|\n",
      "---------------------------\n",
      " 0.00| 0.00| 0.90| 0.00|\n",
      "---------------------------\n",
      " 0.00| 0.00| 0.81| 0.73|\n",
      "==========\n",
      "---------------------------\n",
      " 0.00| 0.90| 1.00| 0.00|\n",
      "---------------------------\n",
      " 0.00| 0.00| 0.90| 0.00|\n",
      "---------------------------\n",
      " 0.00| 0.73| 0.81| 0.73|\n",
      "==========\n",
      "---------------------------\n",
      " 0.81| 0.90| 1.00| 0.00|\n",
      "---------------------------\n",
      " 0.73| 0.00| 0.90| 0.00|\n",
      "---------------------------\n",
      " 0.66| 0.73| 0.81| 0.73|\n",
      "==========\n",
      "---------------------------\n",
      "  R  |  R  |  R  |  G  |\n",
      "---------------------------\n",
      "  U  |     |  U  |     |\n",
      "---------------------------\n",
      "  U  |  R  |  U  |  L  |\n"
     ]
    }
   ],
   "source": [
    "itteration = 0\n",
    "\n",
    "# ### fixed policy ###\n",
    "# policy = {\n",
    "# (2, 0): 'U',\n",
    "# (1, 0): 'U',\n",
    "# (0, 0): 'R',\n",
    "# (0, 1): 'R',\n",
    "# (0, 2): 'R',\n",
    "# (1, 2): 'R',# this is not optimal\n",
    "# (2, 1): 'R',\n",
    "# (2, 2): 'U',\n",
    "# (2, 3): 'L',\n",
    "# (1, 1): 'X',\n",
    "# (1, 3): 'H',\n",
    "# (0, 3): 'G'\n",
    "# }\n",
    "\n",
    "V = {}\n",
    "for s in grid.all_states(): # V values initiation . All Zero\n",
    "    V[s] = 0\n",
    "print(\"Starting Value-States\")\n",
    "\n",
    "\n",
    "while True:\n",
    "    ######################################\n",
    "    # Policy Evaluation has been deleted #\n",
    "    ######################################\n",
    "    print_values(V, grid)\n",
    "    print(10 * \"=\")\n",
    "    is_policy_converged = True\n",
    "    for state in grid.actions.keys():\n",
    "        best_value = float('-inf')\n",
    "        for action in ACTION_SPACE:\n",
    "            v = 0\n",
    "            #find action value\n",
    "            for next_state in grid.all_states():\n",
    "                action_prob = 1 if policy.get(state) == action else 0 # Can be ommitted\n",
    "                r = rewards.get((state, action, next_state), 0)\n",
    "                v += transition_probs.get((state, action, next_state), 0) * (r + 0.9 * V[next_state])\n",
    "            if v > best_value:\n",
    "                best_action = action\n",
    "                best_value = v\n",
    "                V[state] = v # Putting Max state-value in here.\n",
    "    \n",
    "        if best_action != policy[state]:\n",
    "            is_policy_converged = False\n",
    "        policy[state] = best_action\n",
    "    \n",
    "    if is_policy_converged:\n",
    "        break\n",
    "print_policy(policy, grid)"
   ]
  }
 ],
 "metadata": {
  "kernelspec": {
   "display_name": "Python 3",
   "language": "python",
   "name": "python3"
  },
  "language_info": {
   "codemirror_mode": {
    "name": "ipython",
    "version": 3
   },
   "file_extension": ".py",
   "mimetype": "text/x-python",
   "name": "python",
   "nbconvert_exporter": "python",
   "pygments_lexer": "ipython3",
   "version": "3.7.8"
  }
 },
 "nbformat": 4,
 "nbformat_minor": 4
}
