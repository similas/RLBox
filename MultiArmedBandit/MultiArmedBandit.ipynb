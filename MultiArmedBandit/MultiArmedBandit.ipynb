{
 "cells": [
  {
   "cell_type": "markdown",
   "metadata": {},
   "source": [
    "Epsilon Greedy"
   ]
  },
  {
   "cell_type": "code",
   "execution_count": 11,
   "metadata": {},
   "outputs": [],
   "source": [
    "import matplotlib.pyplot as plt\n",
    "import numpy as np\n",
    "import random"
   ]
  },
  {
   "cell_type": "code",
   "execution_count": 12,
   "metadata": {},
   "outputs": [],
   "source": [
    "TRIALS_NUMBER = 2000\n",
    "EPS = 0.1 # 0.1 -> Random Behavior | 0.9 -> Greedy Behavior\n",
    "SLOT_MACHINES_PROBABILITIES = [0.2,0.5,0.75]"
   ]
  },
  {
   "cell_type": "code",
   "execution_count": 24,
   "metadata": {},
   "outputs": [],
   "source": [
    "class Slot:\n",
    "    def __init__(self, p):\n",
    "        self.p = p\n",
    "        self.N = 0\n",
    "        self.p_estimate = 0\n",
    "        \n",
    "    def pull_the_handle(self):\n",
    "        # if random value is less than p the reward is 1.Else Reward is 0.\n",
    "        return np.random.random() < self.p\n",
    "    \n",
    "    def update(self, R):\n",
    "        self.N += 1\n",
    "        self.p_estimate = (   R   +    (self.N - 1)*self.p_estimate    ) / self.N"
   ]
  },
  {
   "cell_type": "code",
   "execution_count": 25,
   "metadata": {},
   "outputs": [],
   "source": [
    "def solveByMultiArmedBandit():\n",
    "    slot_machines = [Slot(p) for p in SLOT_MACHINES_PROBABILITIES]\n",
    "    rewards = np.zeros(TRIALS_NUMBER)\n",
    "    num_times_explored = 0\n",
    "    num_times_exploited = 0\n",
    "    num_optimal = 0\n",
    "    optimal_slot_machine_index = np.argmax([slot.p for slot in slot_machines])\n",
    "    \n",
    "    for i in range(TRIALS_NUMBER):\n",
    "        if np.random.random() < EPS :\n",
    "            # EXPLORE - Random Behavior\n",
    "            num_times_explored += 1\n",
    "            random_picked_machine_index = np.random.randint(len(slot_machines))\n",
    "        else:\n",
    "            # EXPLOIT - Greedy Behavior\n",
    "            num_times_exploited += 1\n",
    "            random_picked_machine_index = np.argmax([slot.p_estimate for slot in slot_machines])\n",
    "        \n",
    "        if random_picked_machine_index == optimal_slot_machine_index:\n",
    "            num_optimal += 1\n",
    "        \n",
    "        R = slot_machines[random_picked_machine_index].pull_the_handle()\n",
    "        rewards[i] = R\n",
    "        slot_machines[random_picked_machine_index].update(R)\n",
    "        \n",
    "    for s in slot_machines:\n",
    "        print(\"mean_estimate:\", s.p_estimate)\n",
    "        \n",
    "    print(\"Total Rewards Earned : \", rewards.sum())\n",
    "    print(\"Overall Win Rate : \", rewards.sum() / TRIALS_NUMBER)\n",
    "    print(\"Number of times explored : \", num_times_explored)\n",
    "    print(\"Number of times exploited : \", num_times_exploited)\n",
    "    print(\"Number of times optimal slot machines selected : \", num_optimal)\n",
    "    \n",
    "    cumulative_results = np.cumsum(rewards)\n",
    "    win_rates = cumulative_results / (np.arange(TRIALS_NUMBER) + 1)\n",
    "    plt.plot(win_rates)\n",
    "    plt.plot(np.ones(TRIALS_NUMBER)*np.max(SLOT_MACHINES_PROBABILITIES))\n",
    "    plt.show()"
   ]
  },
  {
   "cell_type": "code",
   "execution_count": 26,
   "metadata": {},
   "outputs": [
    {
     "name": "stdout",
     "output_type": "stream",
     "text": [
      "mean_estimate: 0.18627450980392157\n",
      "mean_estimate: 0.5584415584415585\n",
      "mean_estimate: 0.7517847336628224\n",
      "Total Rewards Earned :  1431.0\n",
      "Overall Win Rate :  0.7155\n",
      "Number of times explored :  212\n",
      "Number of times exploited :  1788\n",
      "Number of times optimal slot machines selected :  1821\n"
     ]
    },
    {
     "data": {
      "image/png": "[encoded data removed]",
      "text/plain": [
       "<Figure size 432x288 with 1 Axes>"
      ]
     },
     "metadata": {
      "needs_background": "light"
     },
     "output_type": "display_data"
    }
   ],
   "source": [
    "solveByMultiArmedBandit()"
   ]
  },
  {
   "cell_type": "markdown",
   "metadata": {},
   "source": [
    "Optimistic Greedy"
   ]
  },
  {
   "cell_type": "code",
   "execution_count": 59,
   "metadata": {},
   "outputs": [],
   "source": [
    "TRIALS_NUMBER = 5000\n",
    "EPS = 0.1 # 0.1 -> Random Behavior | 0.9 -> Greedy Behavior\n",
    "SLOT_MACHINES_PROBABILITIES = [0.2,0.5,0.75]"
   ]
  },
  {
   "cell_type": "code",
   "execution_count": 65,
   "metadata": {},
   "outputs": [],
   "source": [
    "class Slot:\n",
    "    def __init__(self, p):\n",
    "        self.p = p\n",
    "        self.N = 0\n",
    "        self.p_estimate = 3\n",
    "        \n",
    "    def pull_the_handle(self):\n",
    "        # if random value is less than p the reward is 1.Else Reward is 0.\n",
    "        return np.random.random() < self.p\n",
    "    \n",
    "    def update(self, R):\n",
    "        self.N += 1\n",
    "        self.p_estimate = (   R   +    (self.N - 1)*self.p_estimate    ) / self.N"
   ]
  },
  {
   "cell_type": "code",
   "execution_count": 66,
   "metadata": {},
   "outputs": [],
   "source": [
    "def solveByMultiArmedBandit_Optimistic():\n",
    "    slot_machines = [Slot(p) for p in SLOT_MACHINES_PROBABILITIES]\n",
    "    rewards = np.zeros(TRIALS_NUMBER)\n",
    "    for i in range(TRIALS_NUMBER):\n",
    "        picked_machine_index = np.argmax([slot.p_estimate for slot in slot_machines])\n",
    "        R = slot_machines[picked_machine_index].pull_the_handle()\n",
    "        rewards[i] = R\n",
    "        slot_machines[picked_machine_index].update(R)\n",
    "        \n",
    "    for s in slot_machines:\n",
    "        print(\"mean_estimate:\", s.p_estimate)\n",
    "        \n",
    "    print(\"Total Rewards Earned : \", rewards.sum())\n",
    "    print(\"Overall Win Rate : \", rewards.sum() / TRIALS_NUMBER)\n",
    "    \n",
    "    selected_times = [s.N for s in slot_machines]\n",
    "    print(selected_times)\n",
    "    \n",
    "    cumulative_results = np.cumsum(rewards)\n",
    "    win_rates = cumulative_results / (np.arange(TRIALS_NUMBER) + 1)\n",
    "    plt.plot(win_rates)\n",
    "    plt.plot(np.ones(TRIALS_NUMBER)*np.max(SLOT_MACHINES_PROBABILITIES))\n",
    "    plt.show()"
   ]
  },
  {
   "cell_type": "code",
   "execution_count": 92,
   "metadata": {},
   "outputs": [
    {
     "name": "stdout",
     "output_type": "stream",
     "text": [
      "mean_estimate: 0.3333333333333333\n",
      "mean_estimate: 0.4444444444444444\n",
      "mean_estimate: 0.7461908580593416\n",
      "Total Rewards Earned :  3727.0\n",
      "Overall Win Rate :  0.7454\n",
      "[3, 9, 4988]\n"
     ]
    },
    {
     "data": {
      "image/png": "[encoded data removed]",
      "text/plain": [
       "<Figure size 432x288 with 1 Axes>"
      ]
     },
     "metadata": {
      "needs_background": "light"
     },
     "output_type": "display_data"
    }
   ],
   "source": [
    "solveByMultiArmedBandit_Optimistic()"
   ]
  },
  {
   "cell_type": "code",
   "execution_count": null,
   "metadata": {},
   "outputs": [],
   "source": []
  },
  {
   "cell_type": "code",
   "execution_count": null,
   "metadata": {},
   "outputs": [],
   "source": []
  }
 ],
 "metadata": {
  "kernelspec": {
   "display_name": "Python 3",
   "language": "python",
   "name": "python3"
  },
  "language_info": {
   "codemirror_mode": {
    "name": "ipython",
    "version": 3
   },
   "file_extension": ".py",
   "mimetype": "text/x-python",
   "name": "python",
   "nbconvert_exporter": "python",
   "pygments_lexer": "ipython3",
   "version": "3.7.8"
  }
 },
 "nbformat": 4,
 "nbformat_minor": 4
}
