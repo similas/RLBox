{
 "cells": [
  {
   "cell_type": "markdown",
   "metadata": {},
   "source": [
    "# MultiArmedBandit Using Normal Epsilon Greedy"
   ]
  },
  {
   "cell_type": "code",
   "execution_count": 2,
   "metadata": {},
   "outputs": [],
   "source": [
    "import matplotlib.pyplot as plt\n",
    "import numpy as np\n",
    "import random"
   ]
  },
  {
   "cell_type": "code",
   "execution_count": 60,
   "metadata": {},
   "outputs": [],
   "source": [
    "TRIALS_NUMBER = 2000\n",
    "EPS = 0.1 # 0.1 -> Random Behavior | 0.9 -> Greedy Behavior\n",
    "SLOT_MACHINES_SPECS = [[1.5,3,2],[6,6,2],[11.35,10,2]] # [p, mu, sigma]\n",
    "SLOT_MACHINES_PROBABILITIES = [0.2,0.5,0.75] # Calculated probability of happening the p numbers or less in the normal dist"
   ]
  },
  {
   "cell_type": "code",
   "execution_count": 61,
   "metadata": {},
   "outputs": [],
   "source": [
    "class Slot:\n",
    "    def __init__(self, p, mu, sigma):\n",
    "        self.p = p\n",
    "        self.N = 0\n",
    "        self.p_estimate = 0\n",
    "        self.mu = mu\n",
    "        self.sigma = sigma\n",
    "    def pull_the_handle(self):\n",
    "        # if random value is less than p the reward is 1.Else Reward is 0.\n",
    "        return np.random.normal(self.mu, self.sigma) < self.p\n",
    "    \n",
    "    def update(self, R):\n",
    "        self.N += 1\n",
    "        self.p_estimate = (   R   +    (self.N - 1)*self.p_estimate    ) / self.N"
   ]
  },
  {
   "cell_type": "code",
   "execution_count": 73,
   "metadata": {},
   "outputs": [],
   "source": [
    "def solveByMultiArmedBandit_EGreedy_Normal():\n",
    "    slot_machines = [Slot(s[0],s[1],s[2]) for s in SLOT_MACHINES_SPECS]\n",
    "    rewards = np.zeros(TRIALS_NUMBER)\n",
    "    num_times_explored = 0\n",
    "    num_times_exploited = 0\n",
    "    num_optimal = 0\n",
    "    optimal_slot_machine_index = np.argmax([slot.p for slot in slot_machines])\n",
    "    \n",
    "    for i in range(TRIALS_NUMBER):\n",
    "        if np.random.random() < EPS :\n",
    "            # EXPLORE - Random Behavior\n",
    "            num_times_explored += 1\n",
    "            random_picked_machine_index = np.random.randint(len(slot_machines))\n",
    "        else:\n",
    "            # EXPLOIT - Greedy Behavior\n",
    "            num_times_exploited += 1\n",
    "            random_picked_machine_index = np.argmax([slot.p_estimate for slot in slot_machines])\n",
    "        \n",
    "        if random_picked_machine_index == optimal_slot_machine_index:\n",
    "            num_optimal += 1\n",
    "        \n",
    "        R = slot_machines[random_picked_machine_index].pull_the_handle()\n",
    "        rewards[i] = R\n",
    "        slot_machines[random_picked_machine_index].update(R)\n",
    "        \n",
    "    for s in slot_machines:\n",
    "        print(\"mean_estimate:\", s.p_estimate)\n",
    "        \n",
    "    print(\"Total Rewards Earned : \", rewards.sum())\n",
    "    print(\"Overall Win Rate : \", rewards.sum() / TRIALS_NUMBER)\n",
    "    print(\"Number of times explored : \", num_times_explored)\n",
    "    print(\"Number of times exploited : \", num_times_exploited)\n",
    "    print(\"Number of times optimal slot machines selected : \", num_optimal)\n",
    "    \n",
    "    cumulative_results = np.cumsum(rewards)\n",
    "    win_rates = cumulative_results / (np.arange(TRIALS_NUMBER) + 1)\n",
    "    plt.plot(win_rates)\n",
    "    plt.plot(np.ones(TRIALS_NUMBER)*np.max(SLOT_MACHINES_PROBABILITIES))\n",
    "    plt.show()"
   ]
  },
  {
   "cell_type": "code",
   "execution_count": 74,
   "metadata": {},
   "outputs": [
    {
     "name": "stdout",
     "output_type": "stream",
     "text": [
      "mean_estimate: 0.19444444444444445\n",
      "mean_estimate: 0.4189189189189189\n",
      "mean_estimate: 0.7491909385113269\n",
      "Total Rewards Earned :  1434.0\n",
      "Overall Win Rate :  0.717\n",
      "Number of times explored :  202\n",
      "Number of times exploited :  1798\n",
      "Number of times optimal slot machines selected :  1854\n"
     ]
    },
    {
     "data": {
      "image/png": "[encoded data removed]",
      "text/plain": [
       "<Figure size 432x288 with 1 Axes>"
      ]
     },
     "metadata": {
      "needs_background": "light"
     },
     "output_type": "display_data"
    }
   ],
   "source": [
    "solveByMultiArmedBandit_EGreedy_Normal()"
   ]
  },
  {
   "cell_type": "markdown",
   "metadata": {},
   "source": [
    "# MultiArmedBandit Using UCB"
   ]
  },
  {
   "cell_type": "code",
   "execution_count": 77,
   "metadata": {},
   "outputs": [],
   "source": [
    "TRIALS_NUMBER = 2000\n",
    "EPS = 0.1 # 0.1 -> Random Behavior | 0.9 -> Greedy Behavior\n",
    "SLOT_MACHINES_SPECS = [[1.5,3,2],[6,6,2],[11.35,10,2]] # [p, mu, sigma]\n",
    "SLOT_MACHINES_PROBABILITIES = [0.2,0.5,0.75] # Calculated probability of happening the p numbers or less in the normal dist"
   ]
  },
  {
   "cell_type": "code",
   "execution_count": 78,
   "metadata": {},
   "outputs": [],
   "source": [
    "class Slot:\n",
    "    def __init__(self, p, mu, sigma):\n",
    "        self.p = p\n",
    "        self.N = 0\n",
    "        self.p_estimate = 0\n",
    "        self.mu = mu\n",
    "        self.sigma = sigma\n",
    "    def pull_the_handle(self):\n",
    "        # if random value is less than p the reward is 1.Else Reward is 0.\n",
    "        return np.random.normal(self.mu, self.sigma) < self.p\n",
    "    \n",
    "    def update(self, R):\n",
    "        self.N += 1\n",
    "        self.p_estimate = (   R   +    (self.N - 1)*self.p_estimate    ) / self.N"
   ]
  },
  {
   "cell_type": "code",
   "execution_count": 85,
   "metadata": {},
   "outputs": [],
   "source": [
    "def solveByMultiArmedBandit_UCB_Normal():\n",
    "    C_UCB = 0.2\n",
    "    slot_machines = [Slot(s[0],s[1],s[2]) for s in SLOT_MACHINES_SPECS]\n",
    "    rewards = np.zeros(TRIALS_NUMBER)\n",
    "    for i in range(TRIALS_NUMBER):\n",
    "        # UCB\n",
    "        picked_machine_index = np.argmax([(slot.p_estimate + C_UCB*(np.log(i)/slot.N)**0.5) for slot in slot_machines])\n",
    "        R = slot_machines[picked_machine_index].pull_the_handle()\n",
    "        rewards[i] = R\n",
    "        slot_machines[picked_machine_index].update(R)\n",
    "        \n",
    "    for s in slot_machines:\n",
    "        print(\"mean_estimate:\", s.p_estimate)\n",
    "        \n",
    "    print(\"Total Rewards Earned : \", rewards.sum())\n",
    "    print(\"Overall Win Rate : \", rewards.sum() / TRIALS_NUMBER)\n",
    "    \n",
    "    selected_times = [s.N for s in slot_machines]\n",
    "    print(selected_times)\n",
    "    \n",
    "    cumulative_results = np.cumsum(rewards)\n",
    "    win_rates = cumulative_results / (np.arange(TRIALS_NUMBER) + 1)\n",
    "    plt.plot(win_rates)\n",
    "    plt.plot(np.ones(TRIALS_NUMBER)*np.max(SLOT_MACHINES_PROBABILITIES))\n",
    "    plt.show()"
   ]
  },
  {
   "cell_type": "code",
   "execution_count": 86,
   "metadata": {},
   "outputs": [
    {
     "name": "stdout",
     "output_type": "stream",
     "text": [
      "mean_estimate: 0.0\n",
      "mean_estimate: 0.4\n",
      "mean_estimate: 0.7497492477432297\n",
      "Total Rewards Earned :  1497.0\n",
      "Overall Win Rate :  0.7485\n",
      "[1, 5, 1994]\n"
     ]
    },
    {
     "name": "stderr",
     "output_type": "stream",
     "text": [
      "/Library/Frameworks/Python.framework/Versions/3.7/lib/python3.7/site-packages/ipykernel_launcher.py:6: RuntimeWarning: divide by zero encountered in log\n",
      "  \n",
      "/Library/Frameworks/Python.framework/Versions/3.7/lib/python3.7/site-packages/ipykernel_launcher.py:6: RuntimeWarning: invalid value encountered in double_scalars\n",
      "  \n",
      "/Library/Frameworks/Python.framework/Versions/3.7/lib/python3.7/site-packages/ipykernel_launcher.py:6: RuntimeWarning: divide by zero encountered in double_scalars\n",
      "  \n"
     ]
    },
    {
     "data": {
      "image/png": "[encoded data removed]",
      "text/plain": [
       "<Figure size 432x288 with 1 Axes>"
      ]
     },
     "metadata": {
      "needs_background": "light"
     },
     "output_type": "display_data"
    }
   ],
   "source": [
    "solveByMultiArmedBandit_UCB_Normal()"
   ]
  }
 ],
 "metadata": {
  "kernelspec": {
   "display_name": "Python 3",
   "language": "python",
   "name": "python3"
  },
  "language_info": {
   "codemirror_mode": {
    "name": "ipython",
    "version": 3
   },
   "file_extension": ".py",
   "mimetype": "text/x-python",
   "name": "python",
   "nbconvert_exporter": "python",
   "pygments_lexer": "ipython3",
   "version": "3.7.8"
  }
 },
 "nbformat": 4,
 "nbformat_minor": 4
}
